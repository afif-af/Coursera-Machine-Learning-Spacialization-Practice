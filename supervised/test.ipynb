{
 "cells": [
  {
   "cell_type": "code",
   "execution_count": 1,
   "id": "2823de86",
   "metadata": {
    "_cell_guid": "b1076dfc-b9ad-4769-8c92-a6c4dae69d19",
    "_uuid": "8f2839f25d086af736a60e9eeb907d3b93b6e0e5",
    "execution": {
     "iopub.execute_input": "2024-09-22T11:05:19.223258Z",
     "iopub.status.busy": "2024-09-22T11:05:19.222647Z",
     "iopub.status.idle": "2024-09-22T11:05:19.236922Z",
     "shell.execute_reply": "2024-09-22T11:05:19.235685Z"
    },
    "papermill": {
     "duration": 0.030122,
     "end_time": "2024-09-22T11:05:19.240003",
     "exception": false,
     "start_time": "2024-09-22T11:05:19.209881",
     "status": "completed"
    },
    "tags": []
   },
   "outputs": [],
   "source": [
    "import numpy as np\n",
    "import time"
   ]
  },
  {
   "cell_type": "markdown",
   "id": "8b430783",
   "metadata": {
    "papermill": {
     "duration": 0.009405,
     "end_time": "2024-09-22T11:05:19.259996",
     "exception": false,
     "start_time": "2024-09-22T11:05:19.250591",
     "status": "completed"
    },
    "tags": []
   },
   "source": [
    "<a name=\"toc_40015_2\"></a>\n",
    "# 2 Python and NumPy <a name='Python and NumPy'></a>\n",
    "Python is the programming language we will be using in this course. It has a set of numeric data types and arithmetic operations. NumPy is a library that extends the base capabilities of python to add a richer data set including more numeric types, vectors, matrices, and many matrix functions. NumPy and python  work together fairly seamlessly. Python arithmetic operators work on NumPy data types and many NumPy functions will accept python data types."
   ]
  },
  {
   "cell_type": "markdown",
   "id": "23c7e5f7",
   "metadata": {
    "papermill": {
     "duration": 0.009219,
     "end_time": "2024-09-22T11:05:19.278879",
     "exception": false,
     "start_time": "2024-09-22T11:05:19.269660",
     "status": "completed"
    },
    "tags": []
   },
   "source": [
    "<a name=\"toc_40015_3\"></a>\n",
    "# 3 Vectors\n",
    "<a name=\"toc_40015_3.1\"></a>\n",
    "## 3.1 Abstract\n",
    "<img align=\"right\" src=\"./images/C1_W2_Lab04_Vectors.PNG\" style=\"width:340px;\" >Vectors, as you will use them in this course, are ordered arrays of numbers. In notation, vectors are denoted with lower case bold letters such as $\\mathbf{x}$.  The elements of a vector are all the same type. A vector does not, for example, contain both characters and numbers. The number of elements in the array is often referred to as the *dimension* though mathematicians may prefer *rank*. The vector shown has a dimension of $n$. The elements of a vector can be referenced with an index. In math settings, indexes typically run from 1 to n. In computer science and these labs, indexing will typically run from 0 to n-1.  In notation, elements of a vector, when referenced individually will indicate the index in a subscript, for example, the $0^{th}$ element, of the vector $\\mathbf{x}$ is $x_0$. Note, the x is not bold in this case.  \n"
   ]
  },
  {
   "cell_type": "markdown",
   "id": "85b624cf",
   "metadata": {
    "papermill": {
     "duration": 0.009412,
     "end_time": "2024-09-22T11:05:19.299417",
     "exception": false,
     "start_time": "2024-09-22T11:05:19.290005",
     "status": "completed"
    },
    "tags": []
   },
   "source": [
    "<a name=\"toc_40015_3.3\"></a>\n",
    "## 3.3 Vector Creation\n"
   ]
  },
  {
   "cell_type": "markdown",
   "id": "ac5aac3c",
   "metadata": {
    "papermill": {
     "duration": 0.009485,
     "end_time": "2024-09-22T11:05:19.319681",
     "exception": false,
     "start_time": "2024-09-22T11:05:19.310196",
     "status": "completed"
    },
    "tags": []
   },
   "source": [
    "Data creation routines in NumPy will generally have a first parameter which is the shape of the object. This can either be a single value for a 1-D result or a tuple (n,m,...) specifying the shape of the result. Below are examples of creating vectors using these routines."
   ]
  },
  {
   "cell_type": "markdown",
   "id": "a56a2536",
   "metadata": {
    "papermill": {
     "duration": 0.009256,
     "end_time": "2024-09-22T11:05:19.338682",
     "exception": false,
     "start_time": "2024-09-22T11:05:19.329426",
     "status": "completed"
    },
    "tags": []
   },
   "source": [
    "<a name=\"toc_40015_3.2\"></a>\n",
    "## 3.2 NumPy Arrays\n",
    "\n",
    "NumPy's basic data structure is an indexable, n-dimensional *array* containing elements of the same type (`dtype`). Right away, you may notice we have overloaded the term 'dimension'. Above, it was the number of elements in the vector, here, dimension refers to the number of indexes of an array. A one-dimensional or 1-D array has one index. In Course 1, we will represent vectors as NumPy 1-D arrays. \n",
    "\n",
    " - 1-D array, shape (n,): n elements indexed [0] through [n-1]"
   ]
  },
  {
   "cell_type": "markdown",
   "id": "2f3aac19",
   "metadata": {
    "papermill": {
     "duration": 0.009244,
     "end_time": "2024-09-22T11:05:19.357603",
     "exception": false,
     "start_time": "2024-09-22T11:05:19.348359",
     "status": "completed"
    },
    "tags": []
   },
   "source": [
    "Data creation routines in NumPy will generally have a first parameter which is the shape of the object. This can either be a single value for a 1-D result or a tuple (n,m,...) specifying the shape of the result. Below are examples of creating vectors using these routines."
   ]
  },
  {
   "cell_type": "code",
   "execution_count": 2,
   "id": "94ee167b",
   "metadata": {
    "execution": {
     "iopub.execute_input": "2024-09-22T11:05:19.379390Z",
     "iopub.status.busy": "2024-09-22T11:05:19.378803Z",
     "iopub.status.idle": "2024-09-22T11:05:19.391071Z",
     "shell.execute_reply": "2024-09-22T11:05:19.389233Z"
    },
    "papermill": {
     "duration": 0.026793,
     "end_time": "2024-09-22T11:05:19.394099",
     "exception": false,
     "start_time": "2024-09-22T11:05:19.367306",
     "status": "completed"
    },
    "tags": []
   },
   "outputs": [
    {
     "name": "stdout",
     "output_type": "stream",
     "text": [
      "np.zeros(4) :   a = [0. 0. 0. 0.], a shape = (4,), a data type = float64\n",
      "np.zeros(4,) :  a = [0. 0. 0. 0.], a shape = (4,), a data type = float64\n",
      "np.random.random_sample(4): a = [0.06801432 0.64401296 0.26600043 0.01004597], a shape = (4,), a data type = float64\n"
     ]
    }
   ],
   "source": [
    "# NumPy routines which allocate memory and fill arrays with value\n",
    "a = np.zeros(4);                print(f\"np.zeros(4) :   a = {a}, a shape = {a.shape}, a data type = {a.dtype}\")\n",
    "a = np.zeros((4,));             print(f\"np.zeros(4,) :  a = {a}, a shape = {a.shape}, a data type = {a.dtype}\")\n",
    "a = np.random.random_sample(4); print(f\"np.random.random_sample(4): a = {a}, a shape = {a.shape}, a data type = {a.dtype}\")"
   ]
  },
  {
   "cell_type": "code",
   "execution_count": 3,
   "id": "5a000407",
   "metadata": {
    "execution": {
     "iopub.execute_input": "2024-09-22T11:05:19.416627Z",
     "iopub.status.busy": "2024-09-22T11:05:19.416077Z",
     "iopub.status.idle": "2024-09-22T11:05:19.425086Z",
     "shell.execute_reply": "2024-09-22T11:05:19.423731Z"
    },
    "papermill": {
     "duration": 0.023532,
     "end_time": "2024-09-22T11:05:19.427733",
     "exception": false,
     "start_time": "2024-09-22T11:05:19.404201",
     "status": "completed"
    },
    "tags": []
   },
   "outputs": [
    {
     "name": "stdout",
     "output_type": "stream",
     "text": [
      "np.arange(4.):     a = [0. 1. 2. 3.], a shape = (4,), a data type = float64\n",
      "np.random.rand(4): a = [0.77735004 0.05407836 0.97139175 0.076247  ], a shape = (4,), a data type = float64\n"
     ]
    }
   ],
   "source": [
    "# NumPy routines which allocate memory and fill arrays with value but do not accept shape as input argument\n",
    "a = np.arange(4.);              print(f\"np.arange(4.):     a = {a}, a shape = {a.shape}, a data type = {a.dtype}\")\n",
    "a = np.random.rand(4);          print(f\"np.random.rand(4): a = {a}, a shape = {a.shape}, a data type = {a.dtype}\")"
   ]
  },
  {
   "cell_type": "code",
   "execution_count": 4,
   "id": "a001d07d",
   "metadata": {
    "execution": {
     "iopub.execute_input": "2024-09-22T11:05:19.451513Z",
     "iopub.status.busy": "2024-09-22T11:05:19.450483Z",
     "iopub.status.idle": "2024-09-22T11:05:19.460148Z",
     "shell.execute_reply": "2024-09-22T11:05:19.458690Z"
    },
    "papermill": {
     "duration": 0.025111,
     "end_time": "2024-09-22T11:05:19.463278",
     "exception": false,
     "start_time": "2024-09-22T11:05:19.438167",
     "status": "completed"
    },
    "tags": []
   },
   "outputs": [
    {
     "name": "stdout",
     "output_type": "stream",
     "text": [
      "np.array([5,4,3,2]):  a = [5 4 3 2],     a shape = (4,), a data type = int64\n",
      "np.array([5.,4,3,2]): a = [5. 4. 3. 2.], a shape = (4,), a data type = float64\n"
     ]
    }
   ],
   "source": [
    "# NumPy routines which allocate memory and fill with user specified values\n",
    "a = np.array([5,4,3,2]);  print(f\"np.array([5,4,3,2]):  a = {a},     a shape = {a.shape}, a data type = {a.dtype}\")\n",
    "a = np.array([5.,4,3,2]); print(f\"np.array([5.,4,3,2]): a = {a}, a shape = {a.shape}, a data type = {a.dtype}\")"
   ]
  },
  {
   "cell_type": "code",
   "execution_count": 5,
   "id": "9222f87a",
   "metadata": {
    "execution": {
     "iopub.execute_input": "2024-09-22T11:05:19.487028Z",
     "iopub.status.busy": "2024-09-22T11:05:19.486280Z",
     "iopub.status.idle": "2024-09-22T11:05:19.497483Z",
     "shell.execute_reply": "2024-09-22T11:05:19.495745Z"
    },
    "papermill": {
     "duration": 0.027305,
     "end_time": "2024-09-22T11:05:19.501265",
     "exception": false,
     "start_time": "2024-09-22T11:05:19.473960",
     "status": "completed"
    },
    "tags": []
   },
   "outputs": [
    {
     "name": "stdout",
     "output_type": "stream",
     "text": [
      "[0 1 2 3 4 5 6 7 8 9]\n",
      "a[2].shape: () a[2]  = 2, Accessing an element returns a scalar\n",
      "a[-1] = 9\n",
      "The error message you'll see is:\n",
      "index 10 is out of bounds for axis 0 with size 10\n"
     ]
    }
   ],
   "source": [
    "#vector indexing operations on 1-D vectors\n",
    "a = np.arange(10)\n",
    "print(a)\n",
    "\n",
    "#access an element\n",
    "print(f\"a[2].shape: {a[2].shape} a[2]  = {a[2]}, Accessing an element returns a scalar\")\n",
    "\n",
    "# access the last element, negative indexes count from the end\n",
    "print(f\"a[-1] = {a[-1]}\")\n",
    "\n",
    "#indexs must be within the range of the vector or they will produce and error\n",
    "try:\n",
    "    c = a[10]\n",
    "except Exception as e:\n",
    "    print(\"The error message you'll see is:\")\n",
    "    print(e)"
   ]
  },
  {
   "cell_type": "code",
   "execution_count": 6,
   "id": "aeb5412f",
   "metadata": {
    "execution": {
     "iopub.execute_input": "2024-09-22T11:05:19.525916Z",
     "iopub.status.busy": "2024-09-22T11:05:19.525295Z",
     "iopub.status.idle": "2024-09-22T11:05:19.536199Z",
     "shell.execute_reply": "2024-09-22T11:05:19.534828Z"
    },
    "papermill": {
     "duration": 0.026909,
     "end_time": "2024-09-22T11:05:19.539401",
     "exception": false,
     "start_time": "2024-09-22T11:05:19.512492",
     "status": "completed"
    },
    "tags": []
   },
   "outputs": [
    {
     "name": "stdout",
     "output_type": "stream",
     "text": [
      "a         = [0 1 2 3 4 5 6 7 8 9]\n",
      "a[2:7:1] =  [2 3 4 5 6]\n",
      "a[2:7:2] =  [2 4 6]\n",
      "a[3:]    =  [3 4 5 6 7 8 9]\n",
      "a[:3]    =  [0 1 2]\n",
      "a[:]     =  [0 1 2 3 4 5 6 7 8 9]\n"
     ]
    }
   ],
   "source": [
    "#vector slicing operations\n",
    "a = np.arange(10)\n",
    "print(f\"a         = {a}\")\n",
    "\n",
    "#access 5 consecutive elements (start:stop:step)\n",
    "c = a[2:7:1];     print(\"a[2:7:1] = \", c)\n",
    "\n",
    "# access 3 elements separated by two \n",
    "c = a[2:7:2];     print(\"a[2:7:2] = \", c)\n",
    "\n",
    "# access all elements index 3 and above\n",
    "c = a[3:];        print(\"a[3:]    = \", c)\n",
    "\n",
    "# access all elements below index 3\n",
    "c = a[:3];        print(\"a[:3]    = \", c)\n",
    "\n",
    "# access all elements\n",
    "c = a[:];         print(\"a[:]     = \", c)"
   ]
  },
  {
   "cell_type": "code",
   "execution_count": 7,
   "id": "174af021",
   "metadata": {
    "execution": {
     "iopub.execute_input": "2024-09-22T11:05:19.563694Z",
     "iopub.status.busy": "2024-09-22T11:05:19.563152Z",
     "iopub.status.idle": "2024-09-22T11:05:19.575155Z",
     "shell.execute_reply": "2024-09-22T11:05:19.573713Z"
    },
    "papermill": {
     "duration": 0.027635,
     "end_time": "2024-09-22T11:05:19.577949",
     "exception": false,
     "start_time": "2024-09-22T11:05:19.550314",
     "status": "completed"
    },
    "tags": []
   },
   "outputs": [
    {
     "name": "stdout",
     "output_type": "stream",
     "text": [
      "a             : [1 2 3 4]\n",
      "b = -a        : [-1 -2 -3 -4]\n",
      "b = np.sum(a) : 10\n",
      "b = np.mean(a): 2.5\n",
      "b = a**2      : [ 1  4  9 16]\n"
     ]
    }
   ],
   "source": [
    "a = np.array([1,2,3,4])\n",
    "print(f\"a             : {a}\")\n",
    "# negate elements of a\n",
    "b = -a \n",
    "print(f\"b = -a        : {b}\")\n",
    "\n",
    "# sum all elements of a, returns a scalar\n",
    "b = np.sum(a) \n",
    "print(f\"b = np.sum(a) : {b}\")\n",
    "\n",
    "b = np.mean(a)\n",
    "print(f\"b = np.mean(a): {b}\")\n",
    "\n",
    "b = a**2\n",
    "print(f\"b = a**2      : {b}\")"
   ]
  },
  {
   "cell_type": "code",
   "execution_count": 8,
   "id": "f741a069",
   "metadata": {
    "execution": {
     "iopub.execute_input": "2024-09-22T11:05:19.602284Z",
     "iopub.status.busy": "2024-09-22T11:05:19.601724Z",
     "iopub.status.idle": "2024-09-22T11:05:19.609848Z",
     "shell.execute_reply": "2024-09-22T11:05:19.608405Z"
    },
    "papermill": {
     "duration": 0.024861,
     "end_time": "2024-09-22T11:05:19.613428",
     "exception": false,
     "start_time": "2024-09-22T11:05:19.588567",
     "status": "completed"
    },
    "tags": []
   },
   "outputs": [
    {
     "name": "stdout",
     "output_type": "stream",
     "text": [
      "Binary operators work element wise: [0 0 6 8]\n"
     ]
    }
   ],
   "source": [
    "a = np.array([ 1, 2, 3, 4])\n",
    "b = np.array([-1,-2, 3, 4])\n",
    "print(f\"Binary operators work element wise: {a + b}\")"
   ]
  },
  {
   "cell_type": "code",
   "execution_count": 9,
   "id": "fc08fba9",
   "metadata": {
    "execution": {
     "iopub.execute_input": "2024-09-22T11:05:19.637711Z",
     "iopub.status.busy": "2024-09-22T11:05:19.637177Z",
     "iopub.status.idle": "2024-09-22T11:05:19.644822Z",
     "shell.execute_reply": "2024-09-22T11:05:19.643429Z"
    },
    "papermill": {
     "duration": 0.023153,
     "end_time": "2024-09-22T11:05:19.647751",
     "exception": false,
     "start_time": "2024-09-22T11:05:19.624598",
     "status": "completed"
    },
    "tags": []
   },
   "outputs": [
    {
     "name": "stdout",
     "output_type": "stream",
     "text": [
      "The error message you'll see is:\n",
      "operands could not be broadcast together with shapes (4,) (2,) \n"
     ]
    }
   ],
   "source": [
    "#try a mismatched vector operation\n",
    "c = np.array([1, 2])\n",
    "try:\n",
    "    d = a + c\n",
    "except Exception as e:\n",
    "    print(\"The error message you'll see is:\")\n",
    "    print(e)"
   ]
  },
  {
   "cell_type": "code",
   "execution_count": 10,
   "id": "2cb658e0",
   "metadata": {
    "execution": {
     "iopub.execute_input": "2024-09-22T11:05:19.673216Z",
     "iopub.status.busy": "2024-09-22T11:05:19.671761Z",
     "iopub.status.idle": "2024-09-22T11:05:19.680819Z",
     "shell.execute_reply": "2024-09-22T11:05:19.678891Z"
    },
    "papermill": {
     "duration": 0.024785,
     "end_time": "2024-09-22T11:05:19.683628",
     "exception": false,
     "start_time": "2024-09-22T11:05:19.658843",
     "status": "completed"
    },
    "tags": []
   },
   "outputs": [
    {
     "name": "stdout",
     "output_type": "stream",
     "text": [
      "b = 5 * a : [ 5 10 15 20]\n"
     ]
    }
   ],
   "source": [
    "a = np.array([1, 2, 3, 4])\n",
    "\n",
    "# multiply a by a scalar\n",
    "b = 5 * a \n",
    "print(f\"b = 5 * a : {b}\")"
   ]
  },
  {
   "cell_type": "code",
   "execution_count": 11,
   "id": "cbb8f760",
   "metadata": {
    "execution": {
     "iopub.execute_input": "2024-09-22T11:05:19.707645Z",
     "iopub.status.busy": "2024-09-22T11:05:19.707131Z",
     "iopub.status.idle": "2024-09-22T11:05:19.714662Z",
     "shell.execute_reply": "2024-09-22T11:05:19.713053Z"
    },
    "papermill": {
     "duration": 0.023306,
     "end_time": "2024-09-22T11:05:19.717714",
     "exception": false,
     "start_time": "2024-09-22T11:05:19.694408",
     "status": "completed"
    },
    "tags": []
   },
   "outputs": [],
   "source": [
    "def my_dot(a,b):\n",
    "    x=0\n",
    "    for i in range(a.shape[0]):\n",
    "        x=x+a[i]*b[i]\n",
    "        \n",
    "    return x"
   ]
  },
  {
   "cell_type": "code",
   "execution_count": 12,
   "id": "9ef9d207",
   "metadata": {
    "execution": {
     "iopub.execute_input": "2024-09-22T11:05:19.742730Z",
     "iopub.status.busy": "2024-09-22T11:05:19.742148Z",
     "iopub.status.idle": "2024-09-22T11:05:19.751038Z",
     "shell.execute_reply": "2024-09-22T11:05:19.749545Z"
    },
    "papermill": {
     "duration": 0.025358,
     "end_time": "2024-09-22T11:05:19.754544",
     "exception": false,
     "start_time": "2024-09-22T11:05:19.729186",
     "status": "completed"
    },
    "tags": []
   },
   "outputs": [
    {
     "name": "stdout",
     "output_type": "stream",
     "text": [
      "my_dot(a,b) =24\n"
     ]
    }
   ],
   "source": [
    "a=np.array([1,2,3,4])\n",
    "b=np.array([-1,4,3,2])\n",
    "print(f\"my_dot(a,b) ={my_dot(a,b)}\")"
   ]
  },
  {
   "cell_type": "code",
   "execution_count": 13,
   "id": "0d4aa460",
   "metadata": {
    "execution": {
     "iopub.execute_input": "2024-09-22T11:05:19.780183Z",
     "iopub.status.busy": "2024-09-22T11:05:19.778835Z",
     "iopub.status.idle": "2024-09-22T11:05:19.786461Z",
     "shell.execute_reply": "2024-09-22T11:05:19.784937Z"
    },
    "papermill": {
     "duration": 0.024244,
     "end_time": "2024-09-22T11:05:19.790170",
     "exception": false,
     "start_time": "2024-09-22T11:05:19.765926",
     "status": "completed"
    },
    "tags": []
   },
   "outputs": [
    {
     "name": "stdout",
     "output_type": "stream",
     "text": [
      "24\n"
     ]
    }
   ],
   "source": [
    "c=np.dot(a,b)\n",
    "print(c)"
   ]
  },
  {
   "cell_type": "code",
   "execution_count": 14,
   "id": "b72f71ad",
   "metadata": {
    "execution": {
     "iopub.execute_input": "2024-09-22T11:05:19.815448Z",
     "iopub.status.busy": "2024-09-22T11:05:19.814888Z",
     "iopub.status.idle": "2024-09-22T11:05:19.822636Z",
     "shell.execute_reply": "2024-09-22T11:05:19.821071Z"
    },
    "papermill": {
     "duration": 0.023675,
     "end_time": "2024-09-22T11:05:19.825531",
     "exception": false,
     "start_time": "2024-09-22T11:05:19.801856",
     "status": "completed"
    },
    "tags": []
   },
   "outputs": [
    {
     "name": "stdout",
     "output_type": "stream",
     "text": [
      "24\n"
     ]
    }
   ],
   "source": [
    "d=np.dot(b,a)\n",
    "print(d)"
   ]
  },
  {
   "cell_type": "code",
   "execution_count": 15,
   "id": "3f583fd8",
   "metadata": {
    "execution": {
     "iopub.execute_input": "2024-09-22T11:05:19.853429Z",
     "iopub.status.busy": "2024-09-22T11:05:19.852826Z",
     "iopub.status.idle": "2024-09-22T11:05:26.963481Z",
     "shell.execute_reply": "2024-09-22T11:05:26.961914Z"
    },
    "papermill": {
     "duration": 7.128097,
     "end_time": "2024-09-22T11:05:26.966786",
     "exception": false,
     "start_time": "2024-09-22T11:05:19.838689",
     "status": "completed"
    },
    "tags": []
   },
   "outputs": [
    {
     "name": "stdout",
     "output_type": "stream",
     "text": [
      "np.dot (a,b) =2501072.5817\n",
      "time =10.0849ms\n",
      "mY_dot (a,b) =2501072.5817\n",
      "time =6830.7066ms\n"
     ]
    }
   ],
   "source": [
    "np.random.seed(1)\n",
    "a=np.random.rand(10000000)\n",
    "b=np.random.rand(10000000)\n",
    "\n",
    "tic=time.time()\n",
    "c=np.dot(a,b)\n",
    "toc=time.time()\n",
    "print(f\"np.dot (a,b) ={c:.4f}\")\n",
    "\n",
    "print(f\"time ={1000*(toc-tic):.4f}ms\")\n",
    "\n",
    "tic=time.time()\n",
    "c=my_dot(a,b)\n",
    "toc=time.time()\n",
    "print(f\"mY_dot (a,b) ={c:.4f}\")\n",
    "print(f\"time ={1000*(toc-tic):.4f}ms\")\n",
    "del(a);del(b)"
   ]
  },
  {
   "cell_type": "markdown",
   "id": "014d5788",
   "metadata": {
    "papermill": {
     "duration": 0.010675,
     "end_time": "2024-09-22T11:05:26.988751",
     "exception": false,
     "start_time": "2024-09-22T11:05:26.978076",
     "status": "completed"
    },
    "tags": []
   },
   "source": [
    "<a name=\"toc_12345_3.4.8\"></a>\n",
    "### 3.4.8 Vector Vector operations in Course 1\n",
    "Vector Vector operations will appear frequently in course 1. Here is why:\n",
    "- Going forward, our examples will be stored in an array, `X_train` of dimension (m,n). This will be explained more in context, but here it is important to note it is a 2 Dimensional array or matrix (see next section on matrices).\n",
    "- `w` will be a 1-dimensional vector of shape (n,).\n",
    "- we will perform operations by looping through the examples, extracting each example to work on individually by indexing X. For example:`X[i]`\n",
    "- `X[i]` returns a value of shape (n,), a 1-dimensional vector. Consequently, operations involving `X[i]` are often vector-vector.  \n",
    "\n",
    "That is a somewhat lengthy explanation, but aligning and understanding the shapes of your operands is important when performing vector operations."
   ]
  },
  {
   "cell_type": "code",
   "execution_count": 16,
   "id": "4215d492",
   "metadata": {
    "execution": {
     "iopub.execute_input": "2024-09-22T11:05:27.013167Z",
     "iopub.status.busy": "2024-09-22T11:05:27.012608Z",
     "iopub.status.idle": "2024-09-22T11:05:27.020722Z",
     "shell.execute_reply": "2024-09-22T11:05:27.019453Z"
    },
    "papermill": {
     "duration": 0.02425,
     "end_time": "2024-09-22T11:05:27.024084",
     "exception": false,
     "start_time": "2024-09-22T11:05:26.999834",
     "status": "completed"
    },
    "tags": []
   },
   "outputs": [
    {
     "name": "stdout",
     "output_type": "stream",
     "text": [
      "X[1] has shape (1,)\n",
      "w has shape (1,)\n",
      "c has shape ()\n"
     ]
    }
   ],
   "source": [
    "# show common Course 1 example\n",
    "X = np.array([[1],[2],[3],[4]])\n",
    "w = np.array([2])\n",
    "c = np.dot(X[1], w)\n",
    "\n",
    "print(f\"X[1] has shape {X[1].shape}\")\n",
    "print(f\"w has shape {w.shape}\")\n",
    "print(f\"c has shape {c.shape}\")"
   ]
  },
  {
   "cell_type": "markdown",
   "id": "c9226d61",
   "metadata": {
    "papermill": {
     "duration": 0.010933,
     "end_time": "2024-09-22T11:05:27.046537",
     "exception": false,
     "start_time": "2024-09-22T11:05:27.035604",
     "status": "completed"
    },
    "tags": []
   },
   "source": [
    "<a name=\"toc_40015_4.1\"></a>\n",
    "## 4.1 Abstract\n",
    "Matrices, are two dimensional arrays. The elements of a matrix are all of the same type. In notation, matrices are denoted with capitol, bold letter such as $\\mathbf{X}$. In this and other labs, `m` is often the number of rows and `n` the number of columns. The elements of a matrix can be referenced with a two dimensional index. In math settings, numbers in the index typically run from 1 to n. In computer science and these labs, indexing will run from 0 to n-1.  \n",
    "<figure>\n",
    "    <center> <img src=\"./images/C1_W2_Lab04_Matrices.PNG\"  alt='missing'  width=900><center/>\n",
    "    <figcaption> Generic Matrix Notation, 1st index is row, 2nd is column </figcaption>\n",
    "<figure/>"
   ]
  },
  {
   "cell_type": "code",
   "execution_count": 17,
   "id": "3447ff0d",
   "metadata": {
    "execution": {
     "iopub.execute_input": "2024-09-22T11:05:27.072044Z",
     "iopub.status.busy": "2024-09-22T11:05:27.071507Z",
     "iopub.status.idle": "2024-09-22T11:05:27.080884Z",
     "shell.execute_reply": "2024-09-22T11:05:27.079596Z"
    },
    "papermill": {
     "duration": 0.026329,
     "end_time": "2024-09-22T11:05:27.084129",
     "exception": false,
     "start_time": "2024-09-22T11:05:27.057800",
     "status": "completed"
    },
    "tags": []
   },
   "outputs": [
    {
     "name": "stdout",
     "output_type": "stream",
     "text": [
      "a shape = (1, 5), a = [[0. 0. 0. 0. 0.]]\n",
      "a shape = (2, 1), a = [[0.]\n",
      " [0.]]\n",
      "a shape = (1, 1), a = [[0.44236513]]\n"
     ]
    }
   ],
   "source": [
    "a = np.zeros((1, 5))                                       \n",
    "print(f\"a shape = {a.shape}, a = {a}\")                     \n",
    "\n",
    "a = np.zeros((2, 1))                                                                   \n",
    "print(f\"a shape = {a.shape}, a = {a}\") \n",
    "\n",
    "a = np.random.random_sample((1, 1))  \n",
    "print(f\"a shape = {a.shape}, a = {a}\") "
   ]
  },
  {
   "cell_type": "code",
   "execution_count": 18,
   "id": "7fd3c430",
   "metadata": {
    "execution": {
     "iopub.execute_input": "2024-09-22T11:05:27.109559Z",
     "iopub.status.busy": "2024-09-22T11:05:27.109029Z",
     "iopub.status.idle": "2024-09-22T11:05:27.117298Z",
     "shell.execute_reply": "2024-09-22T11:05:27.116050Z"
    },
    "papermill": {
     "duration": 0.024643,
     "end_time": "2024-09-22T11:05:27.120336",
     "exception": false,
     "start_time": "2024-09-22T11:05:27.095693",
     "status": "completed"
    },
    "tags": []
   },
   "outputs": [
    {
     "name": "stdout",
     "output_type": "stream",
     "text": [
      " a shape = (3, 1), np.array: a = [[5]\n",
      " [4]\n",
      " [3]]\n",
      " a shape = (3, 1), np.array: a = [[5]\n",
      " [4]\n",
      " [3]]\n"
     ]
    }
   ],
   "source": [
    "# NumPy routines which allocate memory and fill with user specified values\n",
    "a = np.array([[5], [4], [3]]);   print(f\" a shape = {a.shape}, np.array: a = {a}\")\n",
    "a = np.array([[5],   # One can also\n",
    "              [4],   # separate values\n",
    "              [3]]); #into separate rows\n",
    "print(f\" a shape = {a.shape}, np.array: a = {a}\")"
   ]
  },
  {
   "cell_type": "code",
   "execution_count": 19,
   "id": "619dc8de",
   "metadata": {
    "execution": {
     "iopub.execute_input": "2024-09-22T11:05:27.146269Z",
     "iopub.status.busy": "2024-09-22T11:05:27.145696Z",
     "iopub.status.idle": "2024-09-22T11:05:27.154778Z",
     "shell.execute_reply": "2024-09-22T11:05:27.153309Z"
    },
    "papermill": {
     "duration": 0.025824,
     "end_time": "2024-09-22T11:05:27.158028",
     "exception": false,
     "start_time": "2024-09-22T11:05:27.132204",
     "status": "completed"
    },
    "tags": []
   },
   "outputs": [
    {
     "name": "stdout",
     "output_type": "stream",
     "text": [
      "a.shape: (3, 2), \n",
      "a= [[0 1]\n",
      " [2 3]\n",
      " [4 5]]\n",
      "\n",
      "a[2,0].shape:   (), a[2,0] = 4,     type(a[2,0]) = <class 'numpy.int64'> Accessing an element returns a scalar\n",
      "\n",
      "a[2].shape:   (2,), a[2]   = [4 5], type(a[2])   = <class 'numpy.ndarray'>\n"
     ]
    }
   ],
   "source": [
    "#vector indexing operations on matrices\n",
    "a = np.arange(6).reshape(-1, 2)   #reshape is a convenient way to create matrices\n",
    "print(f\"a.shape: {a.shape}, \\na= {a}\")\n",
    "\n",
    "#access an element\n",
    "print(f\"\\na[2,0].shape:   {a[2, 0].shape}, a[2,0] = {a[2, 0]},     type(a[2,0]) = {type(a[2, 0])} Accessing an element returns a scalar\\n\")\n",
    "\n",
    "#access a row\n",
    "print(f\"a[2].shape:   {a[2].shape}, a[2]   = {a[2]}, type(a[2])   = {type(a[2])}\")"
   ]
  },
  {
   "cell_type": "markdown",
   "id": "7dbae7a8",
   "metadata": {
    "papermill": {
     "duration": 0.011245,
     "end_time": "2024-09-22T11:05:27.181450",
     "exception": false,
     "start_time": "2024-09-22T11:05:27.170205",
     "status": "completed"
    },
    "tags": []
   },
   "source": [
    "**Reshape**  \n",
    "The previous example used [reshape](https://numpy.org/doc/stable/reference/generated/numpy.reshape.html) to shape the array.  \n",
    "`a = np.arange(6).reshape(-1, 2) `   \n",
    "This line of code first created a *1-D Vector* of six elements. It then reshaped that vector into a *2-D* array using the reshape command. This could have been written:  \n",
    "`a = np.arange(6).reshape(3, 2) `  \n",
    "To arrive at the same 3 row, 2 column array.\n",
    "The -1 argument tells the routine to compute the number of rows given the size of the array and the number of columns.\n"
   ]
  },
  {
   "cell_type": "code",
   "execution_count": 20,
   "id": "a237b64a",
   "metadata": {
    "execution": {
     "iopub.execute_input": "2024-09-22T11:05:27.207304Z",
     "iopub.status.busy": "2024-09-22T11:05:27.206760Z",
     "iopub.status.idle": "2024-09-22T11:05:27.219357Z",
     "shell.execute_reply": "2024-09-22T11:05:27.217629Z"
    },
    "papermill": {
     "duration": 0.029233,
     "end_time": "2024-09-22T11:05:27.222460",
     "exception": false,
     "start_time": "2024-09-22T11:05:27.193227",
     "status": "completed"
    },
    "tags": []
   },
   "outputs": [
    {
     "name": "stdout",
     "output_type": "stream",
     "text": [
      "a = \n",
      "[[ 0  1  2  3  4  5  6  7  8  9]\n",
      " [10 11 12 13 14 15 16 17 18 19]]\n",
      "a[0, 2:7:1] =  [2 3 4 5 6] ,  a[0, 2:7:1].shape = (5,) a 1-D array\n",
      "a[:, 2:7:1] = \n",
      " [[ 2  3  4  5  6]\n",
      " [12 13 14 15 16]] ,  a[:, 2:7:1].shape = (2, 5) a 2-D array\n",
      "a[:,:] = \n",
      " [[ 0  1  2  3  4  5  6  7  8  9]\n",
      " [10 11 12 13 14 15 16 17 18 19]] ,  a[:,:].shape = (2, 10)\n",
      "a[1,:] =  [10 11 12 13 14 15 16 17 18 19] ,  a[1,:].shape = (10,) a 1-D array\n",
      "a[1]   =  [10 11 12 13 14 15 16 17 18 19] ,  a[1].shape   = (10,) a 1-D array\n"
     ]
    }
   ],
   "source": [
    "#vector 2-D slicing operations\n",
    "a = np.arange(20).reshape(-1, 10)\n",
    "print(f\"a = \\n{a}\")\n",
    "\n",
    "#access 5 consecutive elements (start:stop:step)\n",
    "print(\"a[0, 2:7:1] = \", a[0, 2:7:1], \",  a[0, 2:7:1].shape =\", a[0, 2:7:1].shape, \"a 1-D array\")\n",
    "\n",
    "#access 5 consecutive elements (start:stop:step) in two rows\n",
    "print(\"a[:, 2:7:1] = \\n\", a[:, 2:7:1], \",  a[:, 2:7:1].shape =\", a[:, 2:7:1].shape, \"a 2-D array\")\n",
    "\n",
    "# access all elements\n",
    "print(\"a[:,:] = \\n\", a[:,:], \",  a[:,:].shape =\", a[:,:].shape)\n",
    "\n",
    "# access all elements in one row (very common usage)\n",
    "print(\"a[1,:] = \", a[1,:], \",  a[1,:].shape =\", a[1,:].shape, \"a 1-D array\")\n",
    "# same as\n",
    "print(\"a[1]   = \", a[1],   \",  a[1].shape   =\", a[1].shape, \"a 1-D array\")\n"
   ]
  },
  {
   "cell_type": "code",
   "execution_count": null,
   "id": "0f6543d1",
   "metadata": {
    "papermill": {
     "duration": 0.012435,
     "end_time": "2024-09-22T11:05:27.246606",
     "exception": false,
     "start_time": "2024-09-22T11:05:27.234171",
     "status": "completed"
    },
    "tags": []
   },
   "outputs": [],
   "source": []
  }
 ],
 "metadata": {
  "kaggle": {
   "accelerator": "none",
   "dataSources": [],
   "dockerImageVersionId": 30761,
   "isGpuEnabled": false,
   "isInternetEnabled": true,
   "language": "python",
   "sourceType": "notebook"
  },
  "kernelspec": {
   "display_name": "Python 3",
   "language": "python",
   "name": "python3"
  },
  "language_info": {
   "codemirror_mode": {
    "name": "ipython",
    "version": 3
   },
   "file_extension": ".py",
   "mimetype": "text/x-python",
   "name": "python",
   "nbconvert_exporter": "python",
   "pygments_lexer": "ipython3",
   "version": "3.10.14"
  },
  "papermill": {
   "default_parameters": {},
   "duration": 12.245284,
   "end_time": "2024-09-22T11:05:27.884708",
   "environment_variables": {},
   "exception": null,
   "input_path": "__notebook__.ipynb",
   "output_path": "__notebook__.ipynb",
   "parameters": {},
   "start_time": "2024-09-22T11:05:15.639424",
   "version": "2.6.0"
  }
 },
 "nbformat": 4,
 "nbformat_minor": 5
}
